{
 "cells": [
  {
   "cell_type": "code",
   "execution_count": 69,
   "id": "8c885d0c",
   "metadata": {
    "scrolled": true
   },
   "outputs": [],
   "source": [
    "from sklearn.feature_extraction.text import TfidfVectorizer"
   ]
  },
  {
   "cell_type": "markdown",
   "id": "8c89b082",
   "metadata": {},
   "source": [
    "We will analyze some Tweets then we will create TF-IDF Vectorizer"
   ]
  },
  {
   "cell_type": "code",
   "execution_count": 70,
   "id": "fc66f260",
   "metadata": {},
   "outputs": [],
   "source": [
    "Tweet = [\n",
    "    \"Introducing the all-new GalaxyZFlip4. Capture new perspectives with FlexCam. Unfold your world.FlexEveryAngle,Samsung,it is amazing\",\n",
    "    \"Upgrade your home with the pinncacle of TV technology is important, featuring a sleek gallery design, Save on selected LG OLED TVs and a chance to win your money back. Offer ends 11th October. it is amazing\",\n",
    "    \"Meet our latest portfolio of fall devices, including Pixel7 and our first ever Google Pixel Watch. Made By Google\",\n",
    "    \"Asma is the best person I've seen in my life, she changed my life.\"\n",
    "]"
   ]
  },
  {
   "cell_type": "code",
   "execution_count": 71,
   "id": "52b5b5a7",
   "metadata": {},
   "outputs": [],
   "source": [
    "tfidf = TfidfVectorizer()\n",
    "transformed_output = tfidf.fit_transform(Tweet)"
   ]
  },
  {
   "cell_type": "markdown",
   "id": "5b28012c",
   "metadata": {},
   "source": [
    "Now that we transformed the Tweet we will have our vocabulary"
   ]
  },
  {
   "cell_type": "code",
   "execution_count": 72,
   "id": "31c8aa42",
   "metadata": {},
   "outputs": [
    {
     "name": "stdout",
     "output_type": "stream",
     "text": [
      "{'introducing': 27, 'the': 57, 'all': 1, 'new': 37, 'galaxyzflip4': 20, 'capture': 8, 'perspectives': 45, 'with': 66, 'flexcam': 18, 'unfold': 61, 'your': 68, 'world': 67, 'flexeveryangle': 19, 'samsung': 50, 'it': 29, 'is': 28, 'amazing': 2, 'upgrade': 62, 'home': 23, 'pinncacle': 46, 'of': 39, 'tv': 59, 'technology': 56, 'important': 24, 'featuring': 16, 'sleek': 55, 'gallery': 21, 'design': 11, 'save': 51, 'on': 42, 'selected': 53, 'lg': 31, 'oled': 41, 'tvs': 60, 'and': 3, 'chance': 9, 'to': 58, 'win': 65, 'money': 35, 'back': 5, 'offer': 40, 'ends': 13, '11th': 0, 'october': 38, 'meet': 34, 'our': 43, 'latest': 30, 'portfolio': 49, 'fall': 15, 'devices': 12, 'including': 26, 'pixel7': 48, 'first': 17, 'ever': 14, 'google': 22, 'pixel': 47, 'watch': 64, 'made': 33, 'by': 7, 'asma': 4, 'best': 6, 'person': 44, 've': 63, 'seen': 52, 'in': 25, 'my': 36, 'life': 32, 'she': 54, 'changed': 10}\n"
     ]
    }
   ],
   "source": [
    "print(tfidf.vocabulary_)"
   ]
  },
  {
   "cell_type": "code",
   "execution_count": null,
   "id": "ac17af38",
   "metadata": {
    "scrolled": true
   },
   "outputs": [],
   "source": [
    "# What we can do ?\n",
    "\n",
    "dir(tfidf)"
   ]
  },
  {
   "cell_type": "code",
   "execution_count": 73,
   "id": "28da25e1",
   "metadata": {},
   "outputs": [
    {
     "data": {
      "text/plain": [
       "array(['11th', 'all', 'amazing', 'and', 'asma', 'back', 'best', 'by',\n",
       "       'capture', 'chance', 'changed', 'design', 'devices', 'ends',\n",
       "       'ever', 'fall', 'featuring', 'first', 'flexcam', 'flexeveryangle',\n",
       "       'galaxyzflip4', 'gallery', 'google', 'home', 'important', 'in',\n",
       "       'including', 'introducing', 'is', 'it', 'latest', 'lg', 'life',\n",
       "       'made', 'meet', 'money', 'my', 'new', 'october', 'of', 'offer',\n",
       "       'oled', 'on', 'our', 'person', 'perspectives', 'pinncacle',\n",
       "       'pixel', 'pixel7', 'portfolio', 'samsung', 'save', 'seen',\n",
       "       'selected', 'she', 'sleek', 'technology', 'the', 'to', 'tv', 'tvs',\n",
       "       'unfold', 'upgrade', 've', 'watch', 'win', 'with', 'world', 'your'],\n",
       "      dtype=object)"
      ]
     },
     "execution_count": 73,
     "metadata": {},
     "output_type": "execute_result"
    }
   ],
   "source": [
    "all_fetures_names = tfidf.get_feature_names_out()\n",
    "all_fetures_names\n",
    "# It will order our vocabulary"
   ]
  },
  {
   "cell_type": "markdown",
   "id": "3ae42e3f",
   "metadata": {},
   "source": [
    "## IDF Score"
   ]
  },
  {
   "cell_type": "code",
   "execution_count": 79,
   "id": "ca128111",
   "metadata": {},
   "outputs": [
    {
     "name": "stdout",
     "output_type": "stream",
     "text": [
      "11th | 1.916290731874155\n",
      "all | 1.916290731874155\n",
      "amazing | 1.5108256237659907\n",
      "and | 1.5108256237659907\n",
      "asma | 1.916290731874155\n",
      "back | 1.916290731874155\n",
      "best | 1.916290731874155\n",
      "by | 1.916290731874155\n",
      "capture | 1.916290731874155\n",
      "chance | 1.916290731874155\n",
      "changed | 1.916290731874155\n",
      "design | 1.916290731874155\n",
      "devices | 1.916290731874155\n",
      "ends | 1.916290731874155\n",
      "ever | 1.916290731874155\n",
      "fall | 1.916290731874155\n",
      "featuring | 1.916290731874155\n",
      "first | 1.916290731874155\n",
      "flexcam | 1.916290731874155\n",
      "flexeveryangle | 1.916290731874155\n",
      "galaxyzflip4 | 1.916290731874155\n",
      "gallery | 1.916290731874155\n",
      "google | 1.916290731874155\n",
      "home | 1.916290731874155\n",
      "important | 1.916290731874155\n",
      "in | 1.916290731874155\n",
      "including | 1.916290731874155\n",
      "introducing | 1.916290731874155\n",
      "is | 1.2231435513142097\n",
      "it | 1.5108256237659907\n",
      "latest | 1.916290731874155\n",
      "lg | 1.916290731874155\n",
      "life | 1.916290731874155\n",
      "made | 1.916290731874155\n",
      "meet | 1.916290731874155\n",
      "money | 1.916290731874155\n",
      "my | 1.916290731874155\n",
      "new | 1.916290731874155\n",
      "october | 1.916290731874155\n",
      "of | 1.5108256237659907\n",
      "offer | 1.916290731874155\n",
      "oled | 1.916290731874155\n",
      "on | 1.916290731874155\n",
      "our | 1.916290731874155\n",
      "person | 1.916290731874155\n",
      "perspectives | 1.916290731874155\n",
      "pinncacle | 1.916290731874155\n",
      "pixel | 1.916290731874155\n",
      "pixel7 | 1.916290731874155\n",
      "portfolio | 1.916290731874155\n",
      "samsung | 1.916290731874155\n",
      "save | 1.916290731874155\n",
      "seen | 1.916290731874155\n",
      "selected | 1.916290731874155\n",
      "she | 1.916290731874155\n",
      "sleek | 1.916290731874155\n",
      "technology | 1.916290731874155\n",
      "the | 1.2231435513142097\n",
      "to | 1.916290731874155\n",
      "tv | 1.916290731874155\n",
      "tvs | 1.916290731874155\n",
      "unfold | 1.916290731874155\n",
      "upgrade | 1.916290731874155\n",
      "ve | 1.916290731874155\n",
      "watch | 1.916290731874155\n",
      "win | 1.916290731874155\n",
      "with | 1.5108256237659907\n",
      "world | 1.916290731874155\n",
      "your | 1.5108256237659907\n"
     ]
    }
   ],
   "source": [
    "for word in all_fetures_names: # For each word in all feature names\n",
    "    index = tfidf.vocabulary_.get(word)\n",
    "    print(f\"{word} | {tfidf.idf_[index]}\")  # Each word and the score"
   ]
  },
  {
   "cell_type": "markdown",
   "id": "8a415658",
   "metadata": {},
   "source": [
    "The score are now that much different because of the example, but you can see that \"is\" is often repeated and have a low score so it's working."
   ]
  },
  {
   "cell_type": "markdown",
   "id": "f40a4e39",
   "metadata": {},
   "source": [
    "## TF-IDF"
   ]
  },
  {
   "cell_type": "code",
   "execution_count": 81,
   "id": "fc1c8a6a",
   "metadata": {},
   "outputs": [
    {
     "data": {
      "text/plain": [
       "\"Asma is the best person I've seen in my life, she changed my life.\""
      ]
     },
     "execution_count": 81,
     "metadata": {},
     "output_type": "execute_result"
    }
   ],
   "source": [
    "# Let's print the TF-IDF of the last tweet\n",
    "Tweet[3]"
   ]
  },
  {
   "cell_type": "code",
   "execution_count": 82,
   "id": "d29f5374",
   "metadata": {},
   "outputs": [
    {
     "data": {
      "text/plain": [
       "array([0.        , 0.        , 0.        , 0.        , 0.24386747,\n",
       "       0.        , 0.24386747, 0.        , 0.        , 0.        ,\n",
       "       0.24386747, 0.        , 0.        , 0.        , 0.        ,\n",
       "       0.        , 0.        , 0.        , 0.        , 0.        ,\n",
       "       0.        , 0.        , 0.        , 0.        , 0.        ,\n",
       "       0.24386747, 0.        , 0.        , 0.15565745, 0.        ,\n",
       "       0.        , 0.        , 0.48773495, 0.        , 0.        ,\n",
       "       0.        , 0.48773495, 0.        , 0.        , 0.        ,\n",
       "       0.        , 0.        , 0.        , 0.        , 0.24386747,\n",
       "       0.        , 0.        , 0.        , 0.        , 0.        ,\n",
       "       0.        , 0.        , 0.24386747, 0.        , 0.24386747,\n",
       "       0.        , 0.        , 0.15565745, 0.        , 0.        ,\n",
       "       0.        , 0.        , 0.        , 0.24386747, 0.        ,\n",
       "       0.        , 0.        , 0.        , 0.        ])"
      ]
     },
     "execution_count": 82,
     "metadata": {},
     "output_type": "execute_result"
    }
   ],
   "source": [
    "# We have to convert it into an array\n",
    "transformed_output.toarray()[3]\n",
    "\n",
    "# Let's look at \"is\" position 28, so it's 0.155 in the first Tweet\n",
    "# For Asma it's 0.2438"
   ]
  },
  {
   "cell_type": "code",
   "execution_count": null,
   "id": "47f80d8c",
   "metadata": {},
   "outputs": [],
   "source": []
  }
 ],
 "metadata": {
  "kernelspec": {
   "display_name": "Python 3 (ipykernel)",
   "language": "python",
   "name": "python3"
  },
  "language_info": {
   "codemirror_mode": {
    "name": "ipython",
    "version": 3
   },
   "file_extension": ".py",
   "mimetype": "text/x-python",
   "name": "python",
   "nbconvert_exporter": "python",
   "pygments_lexer": "ipython3",
   "version": "3.9.13"
  }
 },
 "nbformat": 4,
 "nbformat_minor": 5
}
