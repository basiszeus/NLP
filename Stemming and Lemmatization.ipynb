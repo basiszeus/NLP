{
 "cells": [
  {
   "cell_type": "markdown",
   "id": "1f4dba24",
   "metadata": {},
   "source": [
    "# Tools"
   ]
  },
  {
   "cell_type": "code",
   "execution_count": 1,
   "id": "8efd8b79",
   "metadata": {},
   "outputs": [],
   "source": [
    "import nltk\n",
    "import spacy"
   ]
  },
  {
   "cell_type": "markdown",
   "id": "863e0726",
   "metadata": {},
   "source": [
    "# Stemming"
   ]
  },
  {
   "cell_type": "code",
   "execution_count": 4,
   "id": "00c6940e",
   "metadata": {},
   "outputs": [],
   "source": [
    "from nltk.stem import PorterStemmer # You can also use SnowballStemmer \n",
    "\n",
    "stemmer = PorterStemmer()"
   ]
  },
  {
   "cell_type": "code",
   "execution_count": 7,
   "id": "111d7944",
   "metadata": {},
   "outputs": [
    {
     "name": "stdout",
     "output_type": "stream",
     "text": [
      "studying | studi\n",
      "working | work\n",
      "eat | eat\n",
      "ate | ate\n",
      "ability | abil\n"
     ]
    }
   ],
   "source": [
    "#Let's try it !\n",
    "\n",
    "words = [\"studying\", \"working\", \"eat\", \"ate\", \"ability\" ]\n",
    "\n",
    "for word in words:\n",
    "    print(word, \"|\",stemmer.stem(word))"
   ]
  },
  {
   "cell_type": "code",
   "execution_count": 8,
   "id": "83901372",
   "metadata": {},
   "outputs": [],
   "source": [
    "# You can see that sometimes it fails!"
   ]
  },
  {
   "cell_type": "markdown",
   "id": "62dafb99",
   "metadata": {},
   "source": [
    "# Lemmatization"
   ]
  },
  {
   "cell_type": "code",
   "execution_count": 10,
   "id": "24ff7ed2",
   "metadata": {},
   "outputs": [
    {
     "name": "stdout",
     "output_type": "stream",
     "text": [
      "studying | study\n",
      "working | work\n",
      "eat | eat\n",
      "ate | eat\n",
      "ability | ability\n"
     ]
    }
   ],
   "source": [
    "# small english processing pipeline\n",
    "nlp = spacy.load(\"en_core_web_sm\")\n",
    "\n",
    "doc = nlp(\"studying working eat ate ability\")\n",
    "\n",
    "for token in doc:\n",
    "    print(token,\"|\", token.lemma_)"
   ]
  },
  {
   "cell_type": "code",
   "execution_count": 11,
   "id": "7d853407",
   "metadata": {},
   "outputs": [],
   "source": [
    "#You can see that the problem is fixed with Lemmatization"
   ]
  },
  {
   "cell_type": "code",
   "execution_count": 13,
   "id": "4557b437",
   "metadata": {},
   "outputs": [
    {
     "name": "stdout",
     "output_type": "stream",
     "text": [
      "studying | 4251533498015236010\n",
      "working | 10038440415813069799\n",
      "eat | 9837207709914848172\n",
      "ate | 9837207709914848172\n",
      "ability | 11565809527369121409\n"
     ]
    }
   ],
   "source": [
    "for token in doc:\n",
    "    print(token,\"|\", token.lemma)\n",
    "    \n",
    "# You can also see the hash of each word with lemma.\n",
    "# You can see that for eat the hash is the same"
   ]
  },
  {
   "cell_type": "markdown",
   "id": "fa48a6b7",
   "metadata": {},
   "source": [
    "# Custom rules "
   ]
  },
  {
   "cell_type": "code",
   "execution_count": 14,
   "id": "81389f58",
   "metadata": {},
   "outputs": [
    {
     "name": "stdout",
     "output_type": "stream",
     "text": [
      "Hey | hey\n",
      "bro | bro\n",
      "! | !\n",
      "you | you\n",
      "need | need\n",
      "to | to\n",
      "study | study\n",
      "braw | braw\n",
      "even | even\n",
      "if | if\n",
      "you | you\n",
      "are | be\n",
      "not | not\n",
      "in | in\n",
      "the | the\n",
      "mood | mood\n",
      "for | for\n",
      "it | it\n"
     ]
    }
   ],
   "source": [
    "doc = nlp(\"Hey bro ! you need to study braw even if you are not in the mood for it\")\n",
    "\n",
    "for token in doc:\n",
    "    print(token,\"|\", token.lemma_)"
   ]
  },
  {
   "cell_type": "markdown",
   "id": "476bd6f8",
   "metadata": {},
   "source": [
    "You can see that the language model does not understand that bro and braw mean the same thing wich is brother."
   ]
  },
  {
   "cell_type": "code",
   "execution_count": 15,
   "id": "4b52ba49",
   "metadata": {},
   "outputs": [
    {
     "data": {
      "text/plain": [
       "['tok2vec', 'tagger', 'parser', 'attribute_ruler', 'lemmatizer', 'ner']"
      ]
     },
     "execution_count": 15,
     "metadata": {},
     "output_type": "execute_result"
    }
   ],
   "source": [
    "# Let's customize the rule\n",
    "# You can use attribute ruler for that\n",
    "\n",
    "nlp.pipe_names"
   ]
  },
  {
   "cell_type": "code",
   "execution_count": 20,
   "id": "33b9267d",
   "metadata": {},
   "outputs": [
    {
     "name": "stdout",
     "output_type": "stream",
     "text": [
      "Hey | hey\n",
      "bro | Brother\n",
      "! | !\n",
      "you | you\n",
      "need | need\n",
      "to | to\n",
      "study | study\n",
      "braw | Brother\n",
      "even | even\n",
      "if | if\n",
      "you | you\n",
      "are | be\n",
      "not | not\n",
      "in | in\n",
      "the | the\n",
      "mood | mood\n",
      "for | for\n",
      "it | it\n"
     ]
    }
   ],
   "source": [
    "ar = nlp.get_pipe('attribute_ruler')\n",
    "\n",
    "#We want lemma to be Brother for Bro and Braw\n",
    "\n",
    "ar.add([[{\"TEXT\":\"bro\"}],[{\"TEXT\":\"braw\"}]],{\"LEMMA\":\"Brother\"})\n",
    "\n",
    "doc = nlp(\"Hey bro ! you need to study braw even if you are not in the mood for it\")\n",
    "\n",
    "for token in doc:\n",
    "    print(token,\"|\", token.lemma_)"
   ]
  },
  {
   "cell_type": "code",
   "execution_count": 21,
   "id": "1bae25fe",
   "metadata": {},
   "outputs": [],
   "source": [
    "# That's it"
   ]
  }
 ],
 "metadata": {
  "kernelspec": {
   "display_name": "Python 3 (ipykernel)",
   "language": "python",
   "name": "python3"
  },
  "language_info": {
   "codemirror_mode": {
    "name": "ipython",
    "version": 3
   },
   "file_extension": ".py",
   "mimetype": "text/x-python",
   "name": "python",
   "nbconvert_exporter": "python",
   "pygments_lexer": "ipython3",
   "version": "3.9.13"
  }
 },
 "nbformat": 4,
 "nbformat_minor": 5
}
