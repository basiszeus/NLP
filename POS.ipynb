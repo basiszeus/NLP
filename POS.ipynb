{
 "cells": [
  {
   "cell_type": "code",
   "execution_count": 1,
   "id": "00cb1a30",
   "metadata": {},
   "outputs": [],
   "source": [
    "import spacy"
   ]
  },
  {
   "cell_type": "code",
   "execution_count": 2,
   "id": "01e14b36",
   "metadata": {},
   "outputs": [],
   "source": [
    "# Load the model\n",
    "\n",
    "nlp = spacy.load(\"en_core_web_sm\")"
   ]
  },
  {
   "cell_type": "code",
   "execution_count": 4,
   "id": "62f6db94",
   "metadata": {},
   "outputs": [
    {
     "name": "stdout",
     "output_type": "stream",
     "text": [
      "Asma | PROPN\n",
      "work | VERB\n",
      "very | ADV\n",
      "hard | ADV\n",
      ". | PUNCT\n",
      "I | PRON\n",
      "hope | VERB\n",
      "she | PRON\n",
      "can | AUX\n",
      "have | VERB\n",
      "a | DET\n",
      "better | ADJ\n",
      "life | NOUN\n"
     ]
    }
   ],
   "source": [
    "#Let's try to print a POS for each token\n",
    "\n",
    "doc = nlp(\"Asma work very hard. I hope she can have a better life\")\n",
    "\n",
    "for token in doc:\n",
    "    print(token, \"|\", token.pos_)"
   ]
  },
  {
   "cell_type": "code",
   "execution_count": 6,
   "id": "39ecf77e",
   "metadata": {},
   "outputs": [
    {
     "name": "stdout",
     "output_type": "stream",
     "text": [
      "Asma | PROPN proper noun\n",
      "work | VERB verb\n",
      "very | ADV adverb\n",
      "hard | ADV adverb\n",
      ". | PUNCT punctuation\n",
      "I | PRON pronoun\n",
      "hope | VERB verb\n",
      "she | PRON pronoun\n",
      "can | AUX auxiliary\n",
      "have | VERB verb\n",
      "a | DET determiner\n",
      "better | ADJ adjective\n",
      "life | NOUN noun\n"
     ]
    }
   ],
   "source": [
    "#Let's explain the POS\n",
    "\n",
    "doc = nlp(\"Asma work very hard. I hope she can have a better life\")\n",
    "\n",
    "for token in doc:\n",
    "    print(token, \"|\", token.pos_, spacy.explain(token.pos_))"
   ]
  },
  {
   "cell_type": "code",
   "execution_count": 11,
   "id": "a6159f04",
   "metadata": {},
   "outputs": [
    {
     "name": "stdout",
     "output_type": "stream",
     "text": [
      "Asma | PROPN proper noun | NNP | noun, proper singular\n",
      "worked | VERB verb | VBD | verb, past tense\n",
      "very | ADV adverb | RB | adverb\n",
      "hard | ADV adverb | RB | adverb\n",
      ". | PUNCT punctuation | . | punctuation mark, sentence closer\n",
      "I | PRON pronoun | PRP | pronoun, personal\n",
      "hope | VERB verb | VBP | verb, non-3rd person singular present\n",
      "she | PRON pronoun | PRP | pronoun, personal\n",
      "can | AUX auxiliary | MD | verb, modal auxiliary\n",
      "have | VERB verb | VB | verb, base form\n",
      "a | DET determiner | DT | determiner\n",
      "better | ADJ adjective | JJR | adjective, comparative\n",
      "life | NOUN noun | NN | noun, singular or mass\n"
     ]
    }
   ],
   "source": [
    "#Tags\n",
    "\n",
    "doc = nlp(\"Asma worked very hard. I hope she can have a better life\")\n",
    "\n",
    "for token in doc:\n",
    "    print(token, \"|\", token.pos_, spacy.explain(token.pos_), \"|\",token.tag_, \"|\",spacy.explain(token.tag_) )"
   ]
  },
  {
   "cell_type": "markdown",
   "id": "24804be3",
   "metadata": {},
   "source": [
    "This way you can have a tag for more information about the POS and explanation about the tag."
   ]
  },
  {
   "cell_type": "markdown",
   "id": "155aad65",
   "metadata": {},
   "source": [
    "For example Worked is a verb in the past tense! the tag was VBD"
   ]
  },
  {
   "cell_type": "code",
   "execution_count": 13,
   "id": "a9712f39",
   "metadata": {},
   "outputs": [
    {
     "name": "stdout",
     "output_type": "stream",
     "text": [
      "He | VBZ | verb, 3rd person singular present\n"
     ]
    }
   ],
   "source": [
    "# You can use indexing and nlp pipeline\n",
    "\n",
    "doc = nlp(\"He works in LG\")\n",
    "\n",
    "doc[0]\n",
    "\n",
    "print(doc[0].text, \"|\", doc[1].tag_, '|', spacy.explain(doc[1].tag_))\n"
   ]
  },
  {
   "cell_type": "markdown",
   "id": "a93d2d20",
   "metadata": {},
   "source": [
    "# Let's do some text analysis"
   ]
  },
  {
   "cell_type": "code",
   "execution_count": 21,
   "id": "9f364f10",
   "metadata": {},
   "outputs": [],
   "source": [
    "money_text = \"\"\"Apple today announced  financial results for its fiscal 2022 third quarter ended June 25, 2022. The Company posted a June quarter revenue record of $83.0 billion, up 2 percent year over year, and quarterly earnings per diluted share of $1.20.\"\"\""
   ]
  },
  {
   "cell_type": "code",
   "execution_count": 23,
   "id": "ae08e68a",
   "metadata": {},
   "outputs": [
    {
     "name": "stdout",
     "output_type": "stream",
     "text": [
      "Apple | PROPN | proper noun\n",
      "today | NOUN | noun\n",
      "announced | VERB | verb\n",
      "  | SPACE | space\n",
      "financial | ADJ | adjective\n",
      "results | NOUN | noun\n",
      "for | ADP | adposition\n",
      "its | PRON | pronoun\n",
      "fiscal | ADJ | adjective\n",
      "2022 | NUM | numeral\n",
      "third | ADJ | adjective\n",
      "quarter | NOUN | noun\n",
      "ended | VERB | verb\n",
      "June | PROPN | proper noun\n",
      "25 | NUM | numeral\n",
      ", | PUNCT | punctuation\n",
      "2022 | NUM | numeral\n",
      ". | PUNCT | punctuation\n",
      "The | DET | determiner\n",
      "Company | PROPN | proper noun\n",
      "posted | VERB | verb\n",
      "a | DET | determiner\n",
      "June | PROPN | proper noun\n",
      "quarter | NOUN | noun\n",
      "revenue | NOUN | noun\n",
      "record | NOUN | noun\n",
      "of | ADP | adposition\n",
      "$ | SYM | symbol\n",
      "83.0 | NUM | numeral\n",
      "billion | NUM | numeral\n",
      ", | PUNCT | punctuation\n",
      "up | ADV | adverb\n",
      "2 | NUM | numeral\n",
      "percent | NOUN | noun\n",
      "year | NOUN | noun\n",
      "over | ADP | adposition\n",
      "year | NOUN | noun\n",
      ", | PUNCT | punctuation\n",
      "and | CCONJ | coordinating conjunction\n",
      "quarterly | ADJ | adjective\n",
      "earnings | NOUN | noun\n",
      "per | ADP | adposition\n",
      "diluted | ADJ | adjective\n",
      "share | NOUN | noun\n",
      "of | ADP | adposition\n",
      "$ | SYM | symbol\n",
      "1.20 | NUM | numeral\n",
      ". | PUNCT | punctuation\n"
     ]
    }
   ],
   "source": [
    "doc = nlp(money_text)\n",
    "\n",
    "for token in doc:\n",
    "    print(token, \"|\", token.pos_, \"|\", spacy.explain(token.pos_))\n",
    "    \n",
    "# Now we can auto delete some tags\n",
    "# You can also detect space"
   ]
  },
  {
   "cell_type": "code",
   "execution_count": 25,
   "id": "f33e4082",
   "metadata": {},
   "outputs": [
    {
     "name": "stdout",
     "output_type": "stream",
     "text": [
      "  | SPACE space\n",
      ", | PUNCT punctuation\n",
      ". | PUNCT punctuation\n",
      ", | PUNCT punctuation\n",
      ", | PUNCT punctuation\n",
      ". | PUNCT punctuation\n"
     ]
    }
   ],
   "source": [
    "# Detect them\n",
    "\n",
    "for token in doc:\n",
    "    if token.pos_ in [\"SPACE\",\"PUNCT\"]:\n",
    "        print(token, \"|\", token.pos_, spacy.explain(token.pos_))"
   ]
  },
  {
   "cell_type": "code",
   "execution_count": 27,
   "id": "7f9d4d72",
   "metadata": {},
   "outputs": [],
   "source": [
    "# Get ride of them\n",
    "\n",
    "filtered_tokens = []\n",
    "\n",
    "for token in doc:\n",
    "    if token.pos_ not in [\"SPACE\",\"PUNCT\"]:\n",
    "        filtered_tokens.append(token)\n",
    "        "
   ]
  },
  {
   "cell_type": "code",
   "execution_count": 29,
   "id": "bc086edb",
   "metadata": {},
   "outputs": [
    {
     "data": {
      "text/plain": [
       "[Apple,\n",
       " today,\n",
       " announced,\n",
       " financial,\n",
       " results,\n",
       " for,\n",
       " its,\n",
       " fiscal,\n",
       " 2022,\n",
       " third,\n",
       " quarter,\n",
       " ended,\n",
       " June,\n",
       " 25,\n",
       " 2022,\n",
       " The,\n",
       " Company,\n",
       " posted,\n",
       " a,\n",
       " June,\n",
       " quarter,\n",
       " revenue,\n",
       " record,\n",
       " of,\n",
       " $,\n",
       " 83.0,\n",
       " billion,\n",
       " up,\n",
       " 2,\n",
       " percent,\n",
       " year,\n",
       " over,\n",
       " year,\n",
       " and,\n",
       " quarterly,\n",
       " earnings,\n",
       " per,\n",
       " diluted,\n",
       " share,\n",
       " of,\n",
       " $,\n",
       " 1.20]"
      ]
     },
     "execution_count": 29,
     "metadata": {},
     "output_type": "execute_result"
    }
   ],
   "source": [
    "# We don't have garbage anymore\n",
    "\n",
    "filtered_tokens"
   ]
  },
  {
   "cell_type": "code",
   "execution_count": 31,
   "id": "5ec9ab16",
   "metadata": {},
   "outputs": [
    {
     "data": {
      "text/plain": [
       "{96: 4,\n",
       " 92: 11,\n",
       " 100: 3,\n",
       " 103: 1,\n",
       " 84: 5,\n",
       " 85: 5,\n",
       " 95: 1,\n",
       " 93: 7,\n",
       " 97: 5,\n",
       " 90: 2,\n",
       " 99: 2,\n",
       " 86: 1,\n",
       " 89: 1}"
      ]
     },
     "execution_count": 31,
     "metadata": {},
     "output_type": "execute_result"
    }
   ],
   "source": [
    "count_POS = doc.count_by(spacy.attrs.POS)\n",
    "count_POS"
   ]
  },
  {
   "cell_type": "code",
   "execution_count": 33,
   "id": "37ecdf7e",
   "metadata": {},
   "outputs": [
    {
     "data": {
      "text/plain": [
       "'PROPN'"
      ]
     },
     "execution_count": 33,
     "metadata": {},
     "output_type": "execute_result"
    }
   ],
   "source": [
    "# What is 96\n",
    "doc.vocab[96].text\n",
    "\n",
    "# So we have 96 PROPN in the text"
   ]
  },
  {
   "cell_type": "code",
   "execution_count": 40,
   "id": "96b46787",
   "metadata": {},
   "outputs": [
    {
     "name": "stdout",
     "output_type": "stream",
     "text": [
      "PROPN | 4\n",
      "NOUN | 11\n",
      "VERB | 3\n",
      "SPACE | 1\n",
      "ADJ | 5\n",
      "ADP | 5\n",
      "PRON | 1\n",
      "NUM | 7\n",
      "PUNCT | 5\n",
      "DET | 2\n",
      "SYM | 2\n",
      "ADV | 1\n",
      "CCONJ | 1\n"
     ]
    }
   ],
   "source": [
    "# Count everything\n",
    "\n",
    "for x,y in count_POS.items():\n",
    "    print(doc.vocab[x].text, '|',y)"
   ]
  },
  {
   "cell_type": "code",
   "execution_count": null,
   "id": "3b810acb",
   "metadata": {},
   "outputs": [],
   "source": []
  }
 ],
 "metadata": {
  "kernelspec": {
   "display_name": "Python 3 (ipykernel)",
   "language": "python",
   "name": "python3"
  },
  "language_info": {
   "codemirror_mode": {
    "name": "ipython",
    "version": 3
   },
   "file_extension": ".py",
   "mimetype": "text/x-python",
   "name": "python",
   "nbconvert_exporter": "python",
   "pygments_lexer": "ipython3",
   "version": "3.9.13"
  }
 },
 "nbformat": 4,
 "nbformat_minor": 5
}
